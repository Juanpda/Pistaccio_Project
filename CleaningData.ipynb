{
 "cells": [
  {
   "cell_type": "markdown",
   "id": "b4bb3e4e",
   "metadata": {},
   "source": [
    "# CLEANING DATA"
   ]
  },
  {
   "cell_type": "markdown",
   "id": "00aeb746",
   "metadata": {},
   "source": [
    "In this file, we are going to clean and prepare the dataset obtained from the API."
   ]
  },
  {
   "cell_type": "markdown",
   "id": "e728cbf7",
   "metadata": {},
   "source": [
    "### Importing some libraries and the csv generated in the Get_Api document."
   ]
  },
  {
   "cell_type": "code",
   "execution_count": 1,
   "id": "29c6e6fe",
   "metadata": {},
   "outputs": [],
   "source": [
    "import pandas as pd\n",
    "import numpy as np\n",
    "import re\n",
    "import seaborn as sns\n",
    "import matplotlib.pyplot as plt\n",
    "import src.Cleaning_f as fc"
   ]
  },
  {
   "cell_type": "code",
   "execution_count": 2,
   "id": "475155e1",
   "metadata": {},
   "outputs": [],
   "source": [
    "DataApi = pd.read_csv(\"data/DataApi.csv\", index_col=0 ,encoding = \"ISO-8859-1\")"
   ]
  },
  {
   "cell_type": "markdown",
   "id": "77a2d18d",
   "metadata": {},
   "source": [
    "### Exploring the csv"
   ]
  },
  {
   "cell_type": "code",
   "execution_count": 3,
   "id": "260a5d01",
   "metadata": {},
   "outputs": [
    {
     "data": {
      "text/plain": [
       "(4014, 20)"
      ]
     },
     "execution_count": 3,
     "metadata": {},
     "output_type": "execute_result"
    }
   ],
   "source": [
    "DataApi.shape"
   ]
  },
  {
   "cell_type": "code",
   "execution_count": 4,
   "id": "63672c5e",
   "metadata": {},
   "outputs": [
    {
     "data": {
      "text/html": [
       "<div>\n",
       "<style scoped>\n",
       "    .dataframe tbody tr th:only-of-type {\n",
       "        vertical-align: middle;\n",
       "    }\n",
       "\n",
       "    .dataframe tbody tr th {\n",
       "        vertical-align: top;\n",
       "    }\n",
       "\n",
       "    .dataframe thead th {\n",
       "        text-align: right;\n",
       "    }\n",
       "</style>\n",
       "<table border=\"1\" class=\"dataframe\">\n",
       "  <thead>\n",
       "    <tr style=\"text-align: right;\">\n",
       "      <th></th>\n",
       "      <th>fecha</th>\n",
       "      <th>indicativo</th>\n",
       "      <th>nombre</th>\n",
       "      <th>provincia</th>\n",
       "      <th>altitud</th>\n",
       "      <th>tmed</th>\n",
       "      <th>prec</th>\n",
       "      <th>tmin</th>\n",
       "      <th>horatmin</th>\n",
       "      <th>tmax</th>\n",
       "      <th>horatmax</th>\n",
       "      <th>dir</th>\n",
       "      <th>velmedia</th>\n",
       "      <th>racha</th>\n",
       "      <th>horaracha</th>\n",
       "      <th>sol</th>\n",
       "      <th>presMax</th>\n",
       "      <th>horaPresMax</th>\n",
       "      <th>presMin</th>\n",
       "      <th>horaPresMin</th>\n",
       "    </tr>\n",
       "  </thead>\n",
       "  <tbody>\n",
       "    <tr>\n",
       "      <th>0</th>\n",
       "      <td>2010-01-01</td>\n",
       "      <td>3260B</td>\n",
       "      <td>TOLEDO</td>\n",
       "      <td>TOLEDO</td>\n",
       "      <td>515</td>\n",
       "      <td>7,7</td>\n",
       "      <td>0,0</td>\n",
       "      <td>4,8</td>\n",
       "      <td>06:51</td>\n",
       "      <td>10,6</td>\n",
       "      <td>14:36</td>\n",
       "      <td>28.0</td>\n",
       "      <td>7,5</td>\n",
       "      <td>21,4</td>\n",
       "      <td>13:19</td>\n",
       "      <td>4,0</td>\n",
       "      <td>956,8</td>\n",
       "      <td>23</td>\n",
       "      <td>947,1</td>\n",
       "      <td>00</td>\n",
       "    </tr>\n",
       "    <tr>\n",
       "      <th>1</th>\n",
       "      <td>2010-01-02</td>\n",
       "      <td>3260B</td>\n",
       "      <td>TOLEDO</td>\n",
       "      <td>TOLEDO</td>\n",
       "      <td>515</td>\n",
       "      <td>7,2</td>\n",
       "      <td>0,0</td>\n",
       "      <td>3,9</td>\n",
       "      <td>Varias</td>\n",
       "      <td>10,6</td>\n",
       "      <td>13:15</td>\n",
       "      <td>29.0</td>\n",
       "      <td>1,9</td>\n",
       "      <td>4,7</td>\n",
       "      <td>00:28</td>\n",
       "      <td>1,2</td>\n",
       "      <td>961,0</td>\n",
       "      <td>11</td>\n",
       "      <td>956,7</td>\n",
       "      <td>00</td>\n",
       "    </tr>\n",
       "    <tr>\n",
       "      <th>2</th>\n",
       "      <td>2010-01-03</td>\n",
       "      <td>3260B</td>\n",
       "      <td>TOLEDO</td>\n",
       "      <td>TOLEDO</td>\n",
       "      <td>515</td>\n",
       "      <td>5,4</td>\n",
       "      <td>6,6</td>\n",
       "      <td>2,1</td>\n",
       "      <td>05:16</td>\n",
       "      <td>8,7</td>\n",
       "      <td>12:39</td>\n",
       "      <td>13.0</td>\n",
       "      <td>0,8</td>\n",
       "      <td>6,4</td>\n",
       "      <td>15:29</td>\n",
       "      <td>2,4</td>\n",
       "      <td>959,0</td>\n",
       "      <td>02</td>\n",
       "      <td>953,8</td>\n",
       "      <td>24</td>\n",
       "    </tr>\n",
       "    <tr>\n",
       "      <th>3</th>\n",
       "      <td>2010-01-04</td>\n",
       "      <td>3260B</td>\n",
       "      <td>TOLEDO</td>\n",
       "      <td>TOLEDO</td>\n",
       "      <td>515</td>\n",
       "      <td>9,9</td>\n",
       "      <td>4,9</td>\n",
       "      <td>7,4</td>\n",
       "      <td>Varias</td>\n",
       "      <td>12,4</td>\n",
       "      <td>16:14</td>\n",
       "      <td>19.0</td>\n",
       "      <td>2,8</td>\n",
       "      <td>6,9</td>\n",
       "      <td>15:42</td>\n",
       "      <td>0,3</td>\n",
       "      <td>953,8</td>\n",
       "      <td>00</td>\n",
       "      <td>940,4</td>\n",
       "      <td>24</td>\n",
       "    </tr>\n",
       "    <tr>\n",
       "      <th>4</th>\n",
       "      <td>2010-01-05</td>\n",
       "      <td>3260B</td>\n",
       "      <td>TOLEDO</td>\n",
       "      <td>TOLEDO</td>\n",
       "      <td>515</td>\n",
       "      <td>9,7</td>\n",
       "      <td>Ip</td>\n",
       "      <td>7,5</td>\n",
       "      <td>08:56</td>\n",
       "      <td>11,9</td>\n",
       "      <td>13:46</td>\n",
       "      <td>30.0</td>\n",
       "      <td>3,3</td>\n",
       "      <td>8,9</td>\n",
       "      <td>14:37</td>\n",
       "      <td>2,8</td>\n",
       "      <td>944,3</td>\n",
       "      <td>24</td>\n",
       "      <td>939,4</td>\n",
       "      <td>05</td>\n",
       "    </tr>\n",
       "  </tbody>\n",
       "</table>\n",
       "</div>"
      ],
      "text/plain": [
       "        fecha indicativo  nombre provincia  altitud tmed prec tmin horatmin  \\\n",
       "0  2010-01-01      3260B  TOLEDO    TOLEDO      515  7,7  0,0  4,8    06:51   \n",
       "1  2010-01-02      3260B  TOLEDO    TOLEDO      515  7,2  0,0  3,9   Varias   \n",
       "2  2010-01-03      3260B  TOLEDO    TOLEDO      515  5,4  6,6  2,1    05:16   \n",
       "3  2010-01-04      3260B  TOLEDO    TOLEDO      515  9,9  4,9  7,4   Varias   \n",
       "4  2010-01-05      3260B  TOLEDO    TOLEDO      515  9,7   Ip  7,5    08:56   \n",
       "\n",
       "   tmax horatmax   dir velmedia racha horaracha  sol presMax horaPresMax  \\\n",
       "0  10,6    14:36  28.0      7,5  21,4     13:19  4,0   956,8          23   \n",
       "1  10,6    13:15  29.0      1,9   4,7     00:28  1,2   961,0          11   \n",
       "2   8,7    12:39  13.0      0,8   6,4     15:29  2,4   959,0          02   \n",
       "3  12,4    16:14  19.0      2,8   6,9     15:42  0,3   953,8          00   \n",
       "4  11,9    13:46  30.0      3,3   8,9     14:37  2,8   944,3          24   \n",
       "\n",
       "  presMin horaPresMin  \n",
       "0   947,1          00  \n",
       "1   956,7          00  \n",
       "2   953,8          24  \n",
       "3   940,4          24  \n",
       "4   939,4          05  "
      ]
     },
     "execution_count": 4,
     "metadata": {},
     "output_type": "execute_result"
    }
   ],
   "source": [
    "DataApi.head()"
   ]
  },
  {
   "cell_type": "code",
   "execution_count": 5,
   "id": "e683206f",
   "metadata": {},
   "outputs": [
    {
     "name": "stdout",
     "output_type": "stream",
     "text": [
      "<class 'pandas.core.frame.DataFrame'>\n",
      "Int64Index: 4014 entries, 0 to 1459\n",
      "Data columns (total 20 columns):\n",
      " #   Column       Non-Null Count  Dtype  \n",
      "---  ------       --------------  -----  \n",
      " 0   fecha        4014 non-null   object \n",
      " 1   indicativo   4014 non-null   object \n",
      " 2   nombre       4014 non-null   object \n",
      " 3   provincia    4014 non-null   object \n",
      " 4   altitud      4014 non-null   int64  \n",
      " 5   tmed         4011 non-null   object \n",
      " 6   prec         4007 non-null   object \n",
      " 7   tmin         4011 non-null   object \n",
      " 8   horatmin     4011 non-null   object \n",
      " 9   tmax         4011 non-null   object \n",
      " 10  horatmax     4011 non-null   object \n",
      " 11  dir          3984 non-null   float64\n",
      " 12  velmedia     3987 non-null   object \n",
      " 13  racha        3984 non-null   object \n",
      " 14  horaracha    3984 non-null   object \n",
      " 15  sol          3955 non-null   object \n",
      " 16  presMax      3987 non-null   object \n",
      " 17  horaPresMax  3987 non-null   object \n",
      " 18  presMin      3987 non-null   object \n",
      " 19  horaPresMin  3986 non-null   object \n",
      "dtypes: float64(1), int64(1), object(18)\n",
      "memory usage: 658.5+ KB\n"
     ]
    }
   ],
   "source": [
    "DataApi.info()"
   ]
  },
  {
   "cell_type": "markdown",
   "id": "2c110dbe",
   "metadata": {},
   "source": [
    "### Cleaning the DataSet"
   ]
  },
  {
   "cell_type": "markdown",
   "id": "4b6d715f",
   "metadata": {},
   "source": [
    "For our analysis we are going to use Time-series so we need the index to be the date. For that we are going to use the function Index_date which is defined in Cleaning_f in src."
   ]
  },
  {
   "cell_type": "code",
   "execution_count": 6,
   "id": "d7705e1b",
   "metadata": {},
   "outputs": [],
   "source": [
    "DA_index = fc.Index_date(DataApi,\"fecha\")"
   ]
  },
  {
   "cell_type": "code",
   "execution_count": 7,
   "id": "b6b1bcc1",
   "metadata": {},
   "outputs": [
    {
     "data": {
      "text/html": [
       "<div>\n",
       "<style scoped>\n",
       "    .dataframe tbody tr th:only-of-type {\n",
       "        vertical-align: middle;\n",
       "    }\n",
       "\n",
       "    .dataframe tbody tr th {\n",
       "        vertical-align: top;\n",
       "    }\n",
       "\n",
       "    .dataframe thead th {\n",
       "        text-align: right;\n",
       "    }\n",
       "</style>\n",
       "<table border=\"1\" class=\"dataframe\">\n",
       "  <thead>\n",
       "    <tr style=\"text-align: right;\">\n",
       "      <th></th>\n",
       "      <th>indicativo</th>\n",
       "      <th>nombre</th>\n",
       "      <th>provincia</th>\n",
       "      <th>altitud</th>\n",
       "      <th>tmed</th>\n",
       "      <th>prec</th>\n",
       "      <th>tmin</th>\n",
       "      <th>horatmin</th>\n",
       "      <th>tmax</th>\n",
       "      <th>horatmax</th>\n",
       "      <th>dir</th>\n",
       "      <th>velmedia</th>\n",
       "      <th>racha</th>\n",
       "      <th>horaracha</th>\n",
       "      <th>sol</th>\n",
       "      <th>presMax</th>\n",
       "      <th>horaPresMax</th>\n",
       "      <th>presMin</th>\n",
       "      <th>horaPresMin</th>\n",
       "    </tr>\n",
       "    <tr>\n",
       "      <th>fecha</th>\n",
       "      <th></th>\n",
       "      <th></th>\n",
       "      <th></th>\n",
       "      <th></th>\n",
       "      <th></th>\n",
       "      <th></th>\n",
       "      <th></th>\n",
       "      <th></th>\n",
       "      <th></th>\n",
       "      <th></th>\n",
       "      <th></th>\n",
       "      <th></th>\n",
       "      <th></th>\n",
       "      <th></th>\n",
       "      <th></th>\n",
       "      <th></th>\n",
       "      <th></th>\n",
       "      <th></th>\n",
       "      <th></th>\n",
       "    </tr>\n",
       "  </thead>\n",
       "  <tbody>\n",
       "    <tr>\n",
       "      <th>2010-01-01</th>\n",
       "      <td>3260B</td>\n",
       "      <td>TOLEDO</td>\n",
       "      <td>TOLEDO</td>\n",
       "      <td>515</td>\n",
       "      <td>7,7</td>\n",
       "      <td>0,0</td>\n",
       "      <td>4,8</td>\n",
       "      <td>06:51</td>\n",
       "      <td>10,6</td>\n",
       "      <td>14:36</td>\n",
       "      <td>28.0</td>\n",
       "      <td>7,5</td>\n",
       "      <td>21,4</td>\n",
       "      <td>13:19</td>\n",
       "      <td>4,0</td>\n",
       "      <td>956,8</td>\n",
       "      <td>23</td>\n",
       "      <td>947,1</td>\n",
       "      <td>00</td>\n",
       "    </tr>\n",
       "    <tr>\n",
       "      <th>2010-01-02</th>\n",
       "      <td>3260B</td>\n",
       "      <td>TOLEDO</td>\n",
       "      <td>TOLEDO</td>\n",
       "      <td>515</td>\n",
       "      <td>7,2</td>\n",
       "      <td>0,0</td>\n",
       "      <td>3,9</td>\n",
       "      <td>Varias</td>\n",
       "      <td>10,6</td>\n",
       "      <td>13:15</td>\n",
       "      <td>29.0</td>\n",
       "      <td>1,9</td>\n",
       "      <td>4,7</td>\n",
       "      <td>00:28</td>\n",
       "      <td>1,2</td>\n",
       "      <td>961,0</td>\n",
       "      <td>11</td>\n",
       "      <td>956,7</td>\n",
       "      <td>00</td>\n",
       "    </tr>\n",
       "    <tr>\n",
       "      <th>2010-01-03</th>\n",
       "      <td>3260B</td>\n",
       "      <td>TOLEDO</td>\n",
       "      <td>TOLEDO</td>\n",
       "      <td>515</td>\n",
       "      <td>5,4</td>\n",
       "      <td>6,6</td>\n",
       "      <td>2,1</td>\n",
       "      <td>05:16</td>\n",
       "      <td>8,7</td>\n",
       "      <td>12:39</td>\n",
       "      <td>13.0</td>\n",
       "      <td>0,8</td>\n",
       "      <td>6,4</td>\n",
       "      <td>15:29</td>\n",
       "      <td>2,4</td>\n",
       "      <td>959,0</td>\n",
       "      <td>02</td>\n",
       "      <td>953,8</td>\n",
       "      <td>24</td>\n",
       "    </tr>\n",
       "    <tr>\n",
       "      <th>2010-01-04</th>\n",
       "      <td>3260B</td>\n",
       "      <td>TOLEDO</td>\n",
       "      <td>TOLEDO</td>\n",
       "      <td>515</td>\n",
       "      <td>9,9</td>\n",
       "      <td>4,9</td>\n",
       "      <td>7,4</td>\n",
       "      <td>Varias</td>\n",
       "      <td>12,4</td>\n",
       "      <td>16:14</td>\n",
       "      <td>19.0</td>\n",
       "      <td>2,8</td>\n",
       "      <td>6,9</td>\n",
       "      <td>15:42</td>\n",
       "      <td>0,3</td>\n",
       "      <td>953,8</td>\n",
       "      <td>00</td>\n",
       "      <td>940,4</td>\n",
       "      <td>24</td>\n",
       "    </tr>\n",
       "    <tr>\n",
       "      <th>2010-01-05</th>\n",
       "      <td>3260B</td>\n",
       "      <td>TOLEDO</td>\n",
       "      <td>TOLEDO</td>\n",
       "      <td>515</td>\n",
       "      <td>9,7</td>\n",
       "      <td>Ip</td>\n",
       "      <td>7,5</td>\n",
       "      <td>08:56</td>\n",
       "      <td>11,9</td>\n",
       "      <td>13:46</td>\n",
       "      <td>30.0</td>\n",
       "      <td>3,3</td>\n",
       "      <td>8,9</td>\n",
       "      <td>14:37</td>\n",
       "      <td>2,8</td>\n",
       "      <td>944,3</td>\n",
       "      <td>24</td>\n",
       "      <td>939,4</td>\n",
       "      <td>05</td>\n",
       "    </tr>\n",
       "  </tbody>\n",
       "</table>\n",
       "</div>"
      ],
      "text/plain": [
       "           indicativo  nombre provincia  altitud tmed prec tmin horatmin  \\\n",
       "fecha                                                                      \n",
       "2010-01-01      3260B  TOLEDO    TOLEDO      515  7,7  0,0  4,8    06:51   \n",
       "2010-01-02      3260B  TOLEDO    TOLEDO      515  7,2  0,0  3,9   Varias   \n",
       "2010-01-03      3260B  TOLEDO    TOLEDO      515  5,4  6,6  2,1    05:16   \n",
       "2010-01-04      3260B  TOLEDO    TOLEDO      515  9,9  4,9  7,4   Varias   \n",
       "2010-01-05      3260B  TOLEDO    TOLEDO      515  9,7   Ip  7,5    08:56   \n",
       "\n",
       "            tmax horatmax   dir velmedia racha horaracha  sol presMax  \\\n",
       "fecha                                                                   \n",
       "2010-01-01  10,6    14:36  28.0      7,5  21,4     13:19  4,0   956,8   \n",
       "2010-01-02  10,6    13:15  29.0      1,9   4,7     00:28  1,2   961,0   \n",
       "2010-01-03   8,7    12:39  13.0      0,8   6,4     15:29  2,4   959,0   \n",
       "2010-01-04  12,4    16:14  19.0      2,8   6,9     15:42  0,3   953,8   \n",
       "2010-01-05  11,9    13:46  30.0      3,3   8,9     14:37  2,8   944,3   \n",
       "\n",
       "           horaPresMax presMin horaPresMin  \n",
       "fecha                                       \n",
       "2010-01-01          23   947,1          00  \n",
       "2010-01-02          11   956,7          00  \n",
       "2010-01-03          02   953,8          24  \n",
       "2010-01-04          00   940,4          24  \n",
       "2010-01-05          24   939,4          05  "
      ]
     },
     "execution_count": 7,
     "metadata": {},
     "output_type": "execute_result"
    }
   ],
   "source": [
    "DA_index.head()"
   ]
  },
  {
   "cell_type": "code",
   "execution_count": 8,
   "id": "1a844298",
   "metadata": {},
   "outputs": [
    {
     "data": {
      "text/plain": [
       "(4014, 19)"
      ]
     },
     "execution_count": 8,
     "metadata": {},
     "output_type": "execute_result"
    }
   ],
   "source": [
    "DA_index.shape"
   ]
  },
  {
   "cell_type": "markdown",
   "id": "fe5c3304",
   "metadata": {},
   "source": [
    "To continue with the cleaning, we are going to drop the non-numeric columns and the Unnammed column, since we are going to use the date as an index. "
   ]
  },
  {
   "cell_type": "markdown",
   "id": "8305a533",
   "metadata": {},
   "source": [
    "But before doing that, we need to check if there is any other value in this columns."
   ]
  },
  {
   "cell_type": "code",
   "execution_count": 9,
   "id": "c3ba966d",
   "metadata": {},
   "outputs": [
    {
     "data": {
      "text/plain": [
       "array(['3260B'], dtype=object)"
      ]
     },
     "execution_count": 9,
     "metadata": {},
     "output_type": "execute_result"
    }
   ],
   "source": [
    "DataApi.indicativo.unique()"
   ]
  },
  {
   "cell_type": "code",
   "execution_count": 10,
   "id": "990fb17a",
   "metadata": {},
   "outputs": [
    {
     "data": {
      "text/plain": [
       "array(['TOLEDO'], dtype=object)"
      ]
     },
     "execution_count": 10,
     "metadata": {},
     "output_type": "execute_result"
    }
   ],
   "source": [
    "DataApi.nombre.unique()"
   ]
  },
  {
   "cell_type": "code",
   "execution_count": 11,
   "id": "4a9447cf",
   "metadata": {},
   "outputs": [
    {
     "data": {
      "text/plain": [
       "array(['TOLEDO'], dtype=object)"
      ]
     },
     "execution_count": 11,
     "metadata": {},
     "output_type": "execute_result"
    }
   ],
   "source": [
    "DataApi.provincia.unique()"
   ]
  },
  {
   "cell_type": "code",
   "execution_count": 12,
   "id": "8792c3c2",
   "metadata": {},
   "outputs": [
    {
     "data": {
      "text/plain": [
       "array([515])"
      ]
     },
     "execution_count": 12,
     "metadata": {},
     "output_type": "execute_result"
    }
   ],
   "source": [
    "DataApi.altitud.unique()"
   ]
  },
  {
   "cell_type": "markdown",
   "id": "01315e80",
   "metadata": {},
   "source": [
    "We store these values in a dictionary to avoid losing them."
   ]
  },
  {
   "cell_type": "code",
   "execution_count": 13,
   "id": "ed519187",
   "metadata": {},
   "outputs": [
    {
     "data": {
      "text/plain": [
       "{'estacion': '3260B', 'provincia': 'toledo', 'altitud': 515}"
      ]
     },
     "execution_count": 13,
     "metadata": {},
     "output_type": "execute_result"
    }
   ],
   "source": [
    "Data_toledo = {\"estacion\":\"3260B\",\"provincia\":\"toledo\",\"altitud\":515}\n",
    "Data_toledo"
   ]
  },
  {
   "cell_type": "markdown",
   "id": "0299a5d3",
   "metadata": {},
   "source": [
    "We drop the columns using drop_columns, another function defined in Cleaning_f."
   ]
  },
  {
   "cell_type": "code",
   "execution_count": 14,
   "id": "dd74329c",
   "metadata": {},
   "outputs": [
    {
     "data": {
      "text/plain": [
       "Index(['indicativo', 'nombre', 'provincia', 'altitud', 'tmed', 'prec', 'tmin',\n",
       "       'horatmin', 'tmax', 'horatmax', 'dir', 'velmedia', 'racha', 'horaracha',\n",
       "       'sol', 'presMax', 'horaPresMax', 'presMin', 'horaPresMin'],\n",
       "      dtype='object')"
      ]
     },
     "execution_count": 14,
     "metadata": {},
     "output_type": "execute_result"
    }
   ],
   "source": [
    "DA_index.keys()"
   ]
  },
  {
   "cell_type": "code",
   "execution_count": 15,
   "id": "d688e67b",
   "metadata": {},
   "outputs": [],
   "source": [
    "colums = ['indicativo', 'nombre', 'provincia', 'altitud']"
   ]
  },
  {
   "cell_type": "code",
   "execution_count": 16,
   "id": "cb514f3a",
   "metadata": {},
   "outputs": [],
   "source": [
    "DA_numeric = fc.drop_colums(DA_index,colums)"
   ]
  },
  {
   "cell_type": "code",
   "execution_count": 17,
   "id": "4e65ecdb",
   "metadata": {},
   "outputs": [
    {
     "data": {
      "text/html": [
       "<div>\n",
       "<style scoped>\n",
       "    .dataframe tbody tr th:only-of-type {\n",
       "        vertical-align: middle;\n",
       "    }\n",
       "\n",
       "    .dataframe tbody tr th {\n",
       "        vertical-align: top;\n",
       "    }\n",
       "\n",
       "    .dataframe thead th {\n",
       "        text-align: right;\n",
       "    }\n",
       "</style>\n",
       "<table border=\"1\" class=\"dataframe\">\n",
       "  <thead>\n",
       "    <tr style=\"text-align: right;\">\n",
       "      <th></th>\n",
       "      <th>tmed</th>\n",
       "      <th>prec</th>\n",
       "      <th>tmin</th>\n",
       "      <th>horatmin</th>\n",
       "      <th>tmax</th>\n",
       "      <th>horatmax</th>\n",
       "      <th>dir</th>\n",
       "      <th>velmedia</th>\n",
       "      <th>racha</th>\n",
       "      <th>horaracha</th>\n",
       "      <th>sol</th>\n",
       "      <th>presMax</th>\n",
       "      <th>horaPresMax</th>\n",
       "      <th>presMin</th>\n",
       "      <th>horaPresMin</th>\n",
       "    </tr>\n",
       "    <tr>\n",
       "      <th>fecha</th>\n",
       "      <th></th>\n",
       "      <th></th>\n",
       "      <th></th>\n",
       "      <th></th>\n",
       "      <th></th>\n",
       "      <th></th>\n",
       "      <th></th>\n",
       "      <th></th>\n",
       "      <th></th>\n",
       "      <th></th>\n",
       "      <th></th>\n",
       "      <th></th>\n",
       "      <th></th>\n",
       "      <th></th>\n",
       "      <th></th>\n",
       "    </tr>\n",
       "  </thead>\n",
       "  <tbody>\n",
       "    <tr>\n",
       "      <th>2010-01-01</th>\n",
       "      <td>7,7</td>\n",
       "      <td>0,0</td>\n",
       "      <td>4,8</td>\n",
       "      <td>06:51</td>\n",
       "      <td>10,6</td>\n",
       "      <td>14:36</td>\n",
       "      <td>28.0</td>\n",
       "      <td>7,5</td>\n",
       "      <td>21,4</td>\n",
       "      <td>13:19</td>\n",
       "      <td>4,0</td>\n",
       "      <td>956,8</td>\n",
       "      <td>23</td>\n",
       "      <td>947,1</td>\n",
       "      <td>00</td>\n",
       "    </tr>\n",
       "    <tr>\n",
       "      <th>2010-01-02</th>\n",
       "      <td>7,2</td>\n",
       "      <td>0,0</td>\n",
       "      <td>3,9</td>\n",
       "      <td>Varias</td>\n",
       "      <td>10,6</td>\n",
       "      <td>13:15</td>\n",
       "      <td>29.0</td>\n",
       "      <td>1,9</td>\n",
       "      <td>4,7</td>\n",
       "      <td>00:28</td>\n",
       "      <td>1,2</td>\n",
       "      <td>961,0</td>\n",
       "      <td>11</td>\n",
       "      <td>956,7</td>\n",
       "      <td>00</td>\n",
       "    </tr>\n",
       "    <tr>\n",
       "      <th>2010-01-03</th>\n",
       "      <td>5,4</td>\n",
       "      <td>6,6</td>\n",
       "      <td>2,1</td>\n",
       "      <td>05:16</td>\n",
       "      <td>8,7</td>\n",
       "      <td>12:39</td>\n",
       "      <td>13.0</td>\n",
       "      <td>0,8</td>\n",
       "      <td>6,4</td>\n",
       "      <td>15:29</td>\n",
       "      <td>2,4</td>\n",
       "      <td>959,0</td>\n",
       "      <td>02</td>\n",
       "      <td>953,8</td>\n",
       "      <td>24</td>\n",
       "    </tr>\n",
       "    <tr>\n",
       "      <th>2010-01-04</th>\n",
       "      <td>9,9</td>\n",
       "      <td>4,9</td>\n",
       "      <td>7,4</td>\n",
       "      <td>Varias</td>\n",
       "      <td>12,4</td>\n",
       "      <td>16:14</td>\n",
       "      <td>19.0</td>\n",
       "      <td>2,8</td>\n",
       "      <td>6,9</td>\n",
       "      <td>15:42</td>\n",
       "      <td>0,3</td>\n",
       "      <td>953,8</td>\n",
       "      <td>00</td>\n",
       "      <td>940,4</td>\n",
       "      <td>24</td>\n",
       "    </tr>\n",
       "    <tr>\n",
       "      <th>2010-01-05</th>\n",
       "      <td>9,7</td>\n",
       "      <td>Ip</td>\n",
       "      <td>7,5</td>\n",
       "      <td>08:56</td>\n",
       "      <td>11,9</td>\n",
       "      <td>13:46</td>\n",
       "      <td>30.0</td>\n",
       "      <td>3,3</td>\n",
       "      <td>8,9</td>\n",
       "      <td>14:37</td>\n",
       "      <td>2,8</td>\n",
       "      <td>944,3</td>\n",
       "      <td>24</td>\n",
       "      <td>939,4</td>\n",
       "      <td>05</td>\n",
       "    </tr>\n",
       "  </tbody>\n",
       "</table>\n",
       "</div>"
      ],
      "text/plain": [
       "           tmed prec tmin horatmin  tmax horatmax   dir velmedia racha  \\\n",
       "fecha                                                                    \n",
       "2010-01-01  7,7  0,0  4,8    06:51  10,6    14:36  28.0      7,5  21,4   \n",
       "2010-01-02  7,2  0,0  3,9   Varias  10,6    13:15  29.0      1,9   4,7   \n",
       "2010-01-03  5,4  6,6  2,1    05:16   8,7    12:39  13.0      0,8   6,4   \n",
       "2010-01-04  9,9  4,9  7,4   Varias  12,4    16:14  19.0      2,8   6,9   \n",
       "2010-01-05  9,7   Ip  7,5    08:56  11,9    13:46  30.0      3,3   8,9   \n",
       "\n",
       "           horaracha  sol presMax horaPresMax presMin horaPresMin  \n",
       "fecha                                                              \n",
       "2010-01-01     13:19  4,0   956,8          23   947,1          00  \n",
       "2010-01-02     00:28  1,2   961,0          11   956,7          00  \n",
       "2010-01-03     15:29  2,4   959,0          02   953,8          24  \n",
       "2010-01-04     15:42  0,3   953,8          00   940,4          24  \n",
       "2010-01-05     14:37  2,8   944,3          24   939,4          05  "
      ]
     },
     "execution_count": 17,
     "metadata": {},
     "output_type": "execute_result"
    }
   ],
   "source": [
    "DA_numeric.head()"
   ]
  },
  {
   "cell_type": "code",
   "execution_count": 18,
   "id": "fc9c647a",
   "metadata": {},
   "outputs": [
    {
     "data": {
      "text/plain": [
       "(4014, 15)"
      ]
     },
     "execution_count": 18,
     "metadata": {},
     "output_type": "execute_result"
    }
   ],
   "source": [
    "DA_numeric.shape"
   ]
  },
  {
   "cell_type": "markdown",
   "id": "a20aba9e",
   "metadata": {},
   "source": [
    "We can also drop the columns \"horatmin\", \"horatmax\", \"horaracha\", \"horaPresMax\" and \"horaPresMin\" because we are working with daily frequency so hours are no longer useful."
   ]
  },
  {
   "cell_type": "code",
   "execution_count": 19,
   "id": "79ee1d1a",
   "metadata": {},
   "outputs": [],
   "source": [
    "col = ['horatmin', 'horatmax', 'horaracha', 'horaPresMax', 'horaPresMin']"
   ]
  },
  {
   "cell_type": "code",
   "execution_count": 20,
   "id": "66ed7f5a",
   "metadata": {},
   "outputs": [],
   "source": [
    "DA_col = fc.drop_colums(DA_numeric,col)"
   ]
  },
  {
   "cell_type": "code",
   "execution_count": 21,
   "id": "5d13c622",
   "metadata": {},
   "outputs": [
    {
     "data": {
      "text/plain": [
       "(4014, 10)"
      ]
     },
     "execution_count": 21,
     "metadata": {},
     "output_type": "execute_result"
    }
   ],
   "source": [
    "DA_col.shape"
   ]
  },
  {
   "cell_type": "markdown",
   "id": "0680ac42",
   "metadata": {},
   "source": [
    "Once we have only the numeric values, we are going to clean all the NaN in rows."
   ]
  },
  {
   "cell_type": "code",
   "execution_count": 22,
   "id": "4982bdb1",
   "metadata": {},
   "outputs": [
    {
     "data": {
      "text/plain": [
       "tmed         3\n",
       "prec         7\n",
       "tmin         3\n",
       "tmax         3\n",
       "dir         30\n",
       "velmedia    27\n",
       "racha       30\n",
       "sol         59\n",
       "presMax     27\n",
       "presMin     27\n",
       "dtype: int64"
      ]
     },
     "execution_count": 22,
     "metadata": {},
     "output_type": "execute_result"
    }
   ],
   "source": [
    "DA_col.isna().sum()"
   ]
  },
  {
   "cell_type": "markdown",
   "id": "b11dd017",
   "metadata": {},
   "source": [
    "To find the nan values in the rows, we can use the function get_nans created in the Cleaning_f document."
   ]
  },
  {
   "cell_type": "markdown",
   "id": "047a28ad",
   "metadata": {},
   "source": [
    "First we are gona find the nans in tmed, tmin and tmax to see if they are in the same rows or if we can use the mean between tmin and tmax to fill the NaNs in tmed."
   ]
  },
  {
   "cell_type": "code",
   "execution_count": 23,
   "id": "c1bfcc83",
   "metadata": {},
   "outputs": [
    {
     "data": {
      "text/plain": [
       "fecha\n",
       "2019-09-21    NaN\n",
       "2019-09-22    NaN\n",
       "2019-10-01    NaN\n",
       "Name: tmed, dtype: object"
      ]
     },
     "execution_count": 23,
     "metadata": {},
     "output_type": "execute_result"
    }
   ],
   "source": [
    "tmed_nans = fc.get_nans(DA_col,\"tmed\")\n",
    "tmed_nans"
   ]
  },
  {
   "cell_type": "code",
   "execution_count": 24,
   "id": "95433282",
   "metadata": {},
   "outputs": [
    {
     "data": {
      "text/plain": [
       "fecha\n",
       "2019-09-21    NaN\n",
       "2019-09-22    NaN\n",
       "2019-10-01    NaN\n",
       "Name: tmin, dtype: object"
      ]
     },
     "execution_count": 24,
     "metadata": {},
     "output_type": "execute_result"
    }
   ],
   "source": [
    "tmin_nans = fc.get_nans(DA_col,\"tmin\")\n",
    "tmin_nans"
   ]
  },
  {
   "cell_type": "code",
   "execution_count": 25,
   "id": "155de0bf",
   "metadata": {},
   "outputs": [
    {
     "data": {
      "text/plain": [
       "fecha\n",
       "2019-09-21    NaN\n",
       "2019-09-22    NaN\n",
       "2019-10-01    NaN\n",
       "Name: tmax, dtype: object"
      ]
     },
     "execution_count": 25,
     "metadata": {},
     "output_type": "execute_result"
    }
   ],
   "source": [
    "tmax_nans = fc.get_nans(DA_col,\"tmax\")\n",
    "tmax_nans"
   ]
  },
  {
   "cell_type": "markdown",
   "id": "ff386f34",
   "metadata": {},
   "source": [
    "As we have seen that the NaN of 'tmed', 'tmin' and 'tmax' are in the same days, let's try to obtain an approximate value. For this we will use another function (fill_nans) from the Cleaning_f file."
   ]
  },
  {
   "cell_type": "code",
   "execution_count": 26,
   "id": "df077da4",
   "metadata": {},
   "outputs": [],
   "source": [
    "DA_Cl = fc.fill_nans(DA_col)"
   ]
  },
  {
   "cell_type": "code",
   "execution_count": null,
   "id": "339868a7",
   "metadata": {},
   "outputs": [],
   "source": []
  },
  {
   "cell_type": "code",
   "execution_count": 27,
   "id": "bf09ca16",
   "metadata": {},
   "outputs": [
    {
     "data": {
      "text/plain": [
       "tmed        0\n",
       "prec        0\n",
       "tmin        0\n",
       "tmax        0\n",
       "dir         0\n",
       "velmedia    0\n",
       "racha       0\n",
       "sol         0\n",
       "presMax     0\n",
       "presMin     0\n",
       "dtype: int64"
      ]
     },
     "execution_count": 27,
     "metadata": {},
     "output_type": "execute_result"
    }
   ],
   "source": [
    "DA_Cl.isna().sum()"
   ]
  },
  {
   "cell_type": "code",
   "execution_count": 28,
   "id": "f6776799",
   "metadata": {},
   "outputs": [
    {
     "data": {
      "text/html": [
       "<div>\n",
       "<style scoped>\n",
       "    .dataframe tbody tr th:only-of-type {\n",
       "        vertical-align: middle;\n",
       "    }\n",
       "\n",
       "    .dataframe tbody tr th {\n",
       "        vertical-align: top;\n",
       "    }\n",
       "\n",
       "    .dataframe thead th {\n",
       "        text-align: right;\n",
       "    }\n",
       "</style>\n",
       "<table border=\"1\" class=\"dataframe\">\n",
       "  <thead>\n",
       "    <tr style=\"text-align: right;\">\n",
       "      <th></th>\n",
       "      <th>tmed</th>\n",
       "      <th>prec</th>\n",
       "      <th>tmin</th>\n",
       "      <th>tmax</th>\n",
       "      <th>dir</th>\n",
       "      <th>velmedia</th>\n",
       "      <th>racha</th>\n",
       "      <th>sol</th>\n",
       "      <th>presMax</th>\n",
       "      <th>presMin</th>\n",
       "    </tr>\n",
       "    <tr>\n",
       "      <th>fecha</th>\n",
       "      <th></th>\n",
       "      <th></th>\n",
       "      <th></th>\n",
       "      <th></th>\n",
       "      <th></th>\n",
       "      <th></th>\n",
       "      <th></th>\n",
       "      <th></th>\n",
       "      <th></th>\n",
       "      <th></th>\n",
       "    </tr>\n",
       "  </thead>\n",
       "  <tbody>\n",
       "    <tr>\n",
       "      <th>2010-01-01</th>\n",
       "      <td>7,7</td>\n",
       "      <td>0,0</td>\n",
       "      <td>4,8</td>\n",
       "      <td>10,6</td>\n",
       "      <td>28.0</td>\n",
       "      <td>7,5</td>\n",
       "      <td>21,4</td>\n",
       "      <td>4,0</td>\n",
       "      <td>956,8</td>\n",
       "      <td>947,1</td>\n",
       "    </tr>\n",
       "    <tr>\n",
       "      <th>2010-01-02</th>\n",
       "      <td>7,2</td>\n",
       "      <td>0,0</td>\n",
       "      <td>3,9</td>\n",
       "      <td>10,6</td>\n",
       "      <td>29.0</td>\n",
       "      <td>1,9</td>\n",
       "      <td>4,7</td>\n",
       "      <td>1,2</td>\n",
       "      <td>961,0</td>\n",
       "      <td>956,7</td>\n",
       "    </tr>\n",
       "    <tr>\n",
       "      <th>2010-01-03</th>\n",
       "      <td>5,4</td>\n",
       "      <td>6,6</td>\n",
       "      <td>2,1</td>\n",
       "      <td>8,7</td>\n",
       "      <td>13.0</td>\n",
       "      <td>0,8</td>\n",
       "      <td>6,4</td>\n",
       "      <td>2,4</td>\n",
       "      <td>959,0</td>\n",
       "      <td>953,8</td>\n",
       "    </tr>\n",
       "    <tr>\n",
       "      <th>2010-01-04</th>\n",
       "      <td>9,9</td>\n",
       "      <td>4,9</td>\n",
       "      <td>7,4</td>\n",
       "      <td>12,4</td>\n",
       "      <td>19.0</td>\n",
       "      <td>2,8</td>\n",
       "      <td>6,9</td>\n",
       "      <td>0,3</td>\n",
       "      <td>953,8</td>\n",
       "      <td>940,4</td>\n",
       "    </tr>\n",
       "    <tr>\n",
       "      <th>2010-01-05</th>\n",
       "      <td>9,7</td>\n",
       "      <td>Ip</td>\n",
       "      <td>7,5</td>\n",
       "      <td>11,9</td>\n",
       "      <td>30.0</td>\n",
       "      <td>3,3</td>\n",
       "      <td>8,9</td>\n",
       "      <td>2,8</td>\n",
       "      <td>944,3</td>\n",
       "      <td>939,4</td>\n",
       "    </tr>\n",
       "    <tr>\n",
       "      <th>2010-01-06</th>\n",
       "      <td>6,6</td>\n",
       "      <td>3,5</td>\n",
       "      <td>4,8</td>\n",
       "      <td>8,3</td>\n",
       "      <td>30.0</td>\n",
       "      <td>3,1</td>\n",
       "      <td>9,4</td>\n",
       "      <td>1,4</td>\n",
       "      <td>947,3</td>\n",
       "      <td>942,7</td>\n",
       "    </tr>\n",
       "  </tbody>\n",
       "</table>\n",
       "</div>"
      ],
      "text/plain": [
       "           tmed prec tmin  tmax   dir velmedia racha  sol presMax presMin\n",
       "fecha                                                                    \n",
       "2010-01-01  7,7  0,0  4,8  10,6  28.0      7,5  21,4  4,0   956,8   947,1\n",
       "2010-01-02  7,2  0,0  3,9  10,6  29.0      1,9   4,7  1,2   961,0   956,7\n",
       "2010-01-03  5,4  6,6  2,1   8,7  13.0      0,8   6,4  2,4   959,0   953,8\n",
       "2010-01-04  9,9  4,9  7,4  12,4  19.0      2,8   6,9  0,3   953,8   940,4\n",
       "2010-01-05  9,7   Ip  7,5  11,9  30.0      3,3   8,9  2,8   944,3   939,4\n",
       "2010-01-06  6,6  3,5  4,8   8,3  30.0      3,1   9,4  1,4   947,3   942,7"
      ]
     },
     "execution_count": 28,
     "metadata": {},
     "output_type": "execute_result"
    }
   ],
   "source": [
    "DA_Cl.head()"
   ]
  },
  {
   "cell_type": "markdown",
   "id": "f85e013f",
   "metadata": {},
   "source": [
    "Finally, we want python to understand the data as numbers instead of strings so that we can work with them in the analysis. To do this we use the function to_num, defined in the Cleaning_f file."
   ]
  },
  {
   "cell_type": "markdown",
   "id": "d666888a",
   "metadata": {},
   "source": [
    "#### tmed"
   ]
  },
  {
   "cell_type": "code",
   "execution_count": 29,
   "id": "6ef3af1f",
   "metadata": {},
   "outputs": [],
   "source": [
    "new_tmed = fc.to_num(DA_Cl.tmed)\n",
    "DA_Cl.tmed = new_tmed"
   ]
  },
  {
   "cell_type": "markdown",
   "id": "7257f985",
   "metadata": {},
   "source": [
    "#### prec"
   ]
  },
  {
   "cell_type": "markdown",
   "id": "cb5228e7",
   "metadata": {},
   "source": [
    "In this case, there was a data that was not a Nan but can´t be replaced by a number. We will manually fill that gap with the mean of the data above and below by using the get_mean function also defined in the Cleaning_f file."
   ]
  },
  {
   "cell_type": "code",
   "execution_count": 30,
   "id": "c3d29434",
   "metadata": {},
   "outputs": [],
   "source": [
    "drp = DA_Cl.drop(labels='2010-01-05', axis=0, inplace=False, errors='raise')"
   ]
  },
  {
   "cell_type": "code",
   "execution_count": 31,
   "id": "3776233f",
   "metadata": {},
   "outputs": [
    {
     "data": {
      "text/plain": [
       "4.2"
      ]
     },
     "execution_count": 31,
     "metadata": {},
     "output_type": "execute_result"
    }
   ],
   "source": [
    "val = fc.saca_medias(drp.prec,'2010-01-04','2010-01-06')\n",
    "val"
   ]
  },
  {
   "cell_type": "code",
   "execution_count": 32,
   "id": "f3ca9d7f",
   "metadata": {},
   "outputs": [],
   "source": [
    "DA_Cl['prec'] = DA_Cl['prec'].str.replace('Ip','4.2')\n",
    "new_prec = fc.to_num(DA_Cl.prec)\n",
    "DA_Cl.prec = new_prec"
   ]
  },
  {
   "cell_type": "markdown",
   "id": "23590080",
   "metadata": {},
   "source": [
    "#### tmin"
   ]
  },
  {
   "cell_type": "code",
   "execution_count": 33,
   "id": "74e5efc4",
   "metadata": {},
   "outputs": [],
   "source": [
    "new_tmin = fc.to_num(DA_Cl.tmin)\n",
    "DA_Cl.tmin = new_tmin"
   ]
  },
  {
   "cell_type": "markdown",
   "id": "dbcaab16",
   "metadata": {},
   "source": [
    "#### tmax"
   ]
  },
  {
   "cell_type": "code",
   "execution_count": 34,
   "id": "10c49a10",
   "metadata": {},
   "outputs": [],
   "source": [
    "new_tmax = fc.to_num(DA_Cl.tmax)\n",
    "DA_Cl.tmax = new_tmax"
   ]
  },
  {
   "cell_type": "markdown",
   "id": "58956df1",
   "metadata": {},
   "source": [
    "#### dir"
   ]
  },
  {
   "cell_type": "code",
   "execution_count": 35,
   "id": "adceff46",
   "metadata": {},
   "outputs": [],
   "source": [
    "new_dir = fc.to_num(DA_Cl.dir)\n",
    "DA_Cl.dir = new_dir"
   ]
  },
  {
   "cell_type": "markdown",
   "id": "682343a5",
   "metadata": {},
   "source": [
    "#### velmedia"
   ]
  },
  {
   "cell_type": "code",
   "execution_count": 36,
   "id": "9ba23f45",
   "metadata": {},
   "outputs": [],
   "source": [
    "new_velmedia = fc.to_num(DA_Cl.velmedia)\n",
    "DA_Cl.velmedia = new_velmedia"
   ]
  },
  {
   "cell_type": "markdown",
   "id": "23dc8654",
   "metadata": {},
   "source": [
    "#### racha"
   ]
  },
  {
   "cell_type": "code",
   "execution_count": 37,
   "id": "7964c01d",
   "metadata": {},
   "outputs": [],
   "source": [
    "new_racha = fc.to_num(DA_Cl.racha)\n",
    "DA_Cl.racha = new_racha"
   ]
  },
  {
   "cell_type": "markdown",
   "id": "257a7a8b",
   "metadata": {},
   "source": [
    "#### sol"
   ]
  },
  {
   "cell_type": "code",
   "execution_count": 38,
   "id": "983ffcde",
   "metadata": {},
   "outputs": [],
   "source": [
    "new_sol = fc.to_num(DA_Cl.sol)\n",
    "DA_Cl.sol = new_sol"
   ]
  },
  {
   "cell_type": "markdown",
   "id": "3f82eca3",
   "metadata": {},
   "source": [
    "#### presMin"
   ]
  },
  {
   "cell_type": "code",
   "execution_count": 39,
   "id": "cb0f2d94",
   "metadata": {},
   "outputs": [],
   "source": [
    "new_presMin = fc.to_num(DA_Cl.presMin)\n",
    "DA_Cl.presMin = new_presMin"
   ]
  },
  {
   "cell_type": "markdown",
   "id": "a2da51dc",
   "metadata": {},
   "source": [
    "#### presMax"
   ]
  },
  {
   "cell_type": "code",
   "execution_count": 40,
   "id": "ffeb5fa0",
   "metadata": {},
   "outputs": [],
   "source": [
    "new_presMax = fc.to_num(DA_Cl.presMax)\n",
    "DA_Cl.presMax = new_presMax"
   ]
  },
  {
   "cell_type": "code",
   "execution_count": 41,
   "id": "50887d20",
   "metadata": {},
   "outputs": [
    {
     "data": {
      "text/html": [
       "<div>\n",
       "<style scoped>\n",
       "    .dataframe tbody tr th:only-of-type {\n",
       "        vertical-align: middle;\n",
       "    }\n",
       "\n",
       "    .dataframe tbody tr th {\n",
       "        vertical-align: top;\n",
       "    }\n",
       "\n",
       "    .dataframe thead th {\n",
       "        text-align: right;\n",
       "    }\n",
       "</style>\n",
       "<table border=\"1\" class=\"dataframe\">\n",
       "  <thead>\n",
       "    <tr style=\"text-align: right;\">\n",
       "      <th></th>\n",
       "      <th>tmed</th>\n",
       "      <th>prec</th>\n",
       "      <th>tmin</th>\n",
       "      <th>tmax</th>\n",
       "      <th>dir</th>\n",
       "      <th>velmedia</th>\n",
       "      <th>racha</th>\n",
       "      <th>sol</th>\n",
       "      <th>presMax</th>\n",
       "      <th>presMin</th>\n",
       "    </tr>\n",
       "    <tr>\n",
       "      <th>fecha</th>\n",
       "      <th></th>\n",
       "      <th></th>\n",
       "      <th></th>\n",
       "      <th></th>\n",
       "      <th></th>\n",
       "      <th></th>\n",
       "      <th></th>\n",
       "      <th></th>\n",
       "      <th></th>\n",
       "      <th></th>\n",
       "    </tr>\n",
       "  </thead>\n",
       "  <tbody>\n",
       "    <tr>\n",
       "      <th>2010-01-01</th>\n",
       "      <td>7.7</td>\n",
       "      <td>0.0</td>\n",
       "      <td>4.8</td>\n",
       "      <td>10.6</td>\n",
       "      <td>28.0</td>\n",
       "      <td>7.5</td>\n",
       "      <td>21.4</td>\n",
       "      <td>4.0</td>\n",
       "      <td>956.8</td>\n",
       "      <td>947.1</td>\n",
       "    </tr>\n",
       "    <tr>\n",
       "      <th>2010-01-02</th>\n",
       "      <td>7.2</td>\n",
       "      <td>0.0</td>\n",
       "      <td>3.9</td>\n",
       "      <td>10.6</td>\n",
       "      <td>29.0</td>\n",
       "      <td>1.9</td>\n",
       "      <td>4.7</td>\n",
       "      <td>1.2</td>\n",
       "      <td>961.0</td>\n",
       "      <td>956.7</td>\n",
       "    </tr>\n",
       "    <tr>\n",
       "      <th>2010-01-03</th>\n",
       "      <td>5.4</td>\n",
       "      <td>6.6</td>\n",
       "      <td>2.1</td>\n",
       "      <td>8.7</td>\n",
       "      <td>13.0</td>\n",
       "      <td>0.8</td>\n",
       "      <td>6.4</td>\n",
       "      <td>2.4</td>\n",
       "      <td>959.0</td>\n",
       "      <td>953.8</td>\n",
       "    </tr>\n",
       "    <tr>\n",
       "      <th>2010-01-04</th>\n",
       "      <td>9.9</td>\n",
       "      <td>4.9</td>\n",
       "      <td>7.4</td>\n",
       "      <td>12.4</td>\n",
       "      <td>19.0</td>\n",
       "      <td>2.8</td>\n",
       "      <td>6.9</td>\n",
       "      <td>0.3</td>\n",
       "      <td>953.8</td>\n",
       "      <td>940.4</td>\n",
       "    </tr>\n",
       "    <tr>\n",
       "      <th>2010-01-05</th>\n",
       "      <td>9.7</td>\n",
       "      <td>4.2</td>\n",
       "      <td>7.5</td>\n",
       "      <td>11.9</td>\n",
       "      <td>30.0</td>\n",
       "      <td>3.3</td>\n",
       "      <td>8.9</td>\n",
       "      <td>2.8</td>\n",
       "      <td>944.3</td>\n",
       "      <td>939.4</td>\n",
       "    </tr>\n",
       "  </tbody>\n",
       "</table>\n",
       "</div>"
      ],
      "text/plain": [
       "            tmed  prec  tmin  tmax   dir  velmedia  racha  sol  presMax  \\\n",
       "fecha                                                                     \n",
       "2010-01-01   7.7   0.0   4.8  10.6  28.0       7.5   21.4  4.0    956.8   \n",
       "2010-01-02   7.2   0.0   3.9  10.6  29.0       1.9    4.7  1.2    961.0   \n",
       "2010-01-03   5.4   6.6   2.1   8.7  13.0       0.8    6.4  2.4    959.0   \n",
       "2010-01-04   9.9   4.9   7.4  12.4  19.0       2.8    6.9  0.3    953.8   \n",
       "2010-01-05   9.7   4.2   7.5  11.9  30.0       3.3    8.9  2.8    944.3   \n",
       "\n",
       "            presMin  \n",
       "fecha                \n",
       "2010-01-01    947.1  \n",
       "2010-01-02    956.7  \n",
       "2010-01-03    953.8  \n",
       "2010-01-04    940.4  \n",
       "2010-01-05    939.4  "
      ]
     },
     "execution_count": 41,
     "metadata": {},
     "output_type": "execute_result"
    }
   ],
   "source": [
    "DA_Cl.head()"
   ]
  },
  {
   "cell_type": "code",
   "execution_count": 42,
   "id": "15f11047",
   "metadata": {},
   "outputs": [
    {
     "name": "stdout",
     "output_type": "stream",
     "text": [
      "<class 'pandas.core.frame.DataFrame'>\n",
      "Index: 4014 entries, 2010-01-01 to 2020-12-31\n",
      "Data columns (total 10 columns):\n",
      " #   Column    Non-Null Count  Dtype  \n",
      "---  ------    --------------  -----  \n",
      " 0   tmed      4014 non-null   float64\n",
      " 1   prec      4014 non-null   float64\n",
      " 2   tmin      4014 non-null   float64\n",
      " 3   tmax      4014 non-null   float64\n",
      " 4   dir       4014 non-null   float64\n",
      " 5   velmedia  4014 non-null   float64\n",
      " 6   racha     4014 non-null   float64\n",
      " 7   sol       4014 non-null   float64\n",
      " 8   presMax   4014 non-null   float64\n",
      " 9   presMin   4014 non-null   float64\n",
      "dtypes: float64(10)\n",
      "memory usage: 474.0+ KB\n"
     ]
    }
   ],
   "source": [
    "DA_Cl.info()"
   ]
  },
  {
   "cell_type": "code",
   "execution_count": 43,
   "id": "825756b3",
   "metadata": {},
   "outputs": [],
   "source": [
    "DA_Cl.to_csv('data/DA_Cl.csv')"
   ]
  },
  {
   "cell_type": "code",
   "execution_count": null,
   "id": "aca006f7",
   "metadata": {},
   "outputs": [],
   "source": []
  },
  {
   "cell_type": "code",
   "execution_count": null,
   "id": "367ac825",
   "metadata": {},
   "outputs": [],
   "source": []
  },
  {
   "cell_type": "code",
   "execution_count": null,
   "id": "bda59f2e",
   "metadata": {},
   "outputs": [],
   "source": []
  },
  {
   "cell_type": "code",
   "execution_count": null,
   "id": "26fbbbd8",
   "metadata": {},
   "outputs": [],
   "source": []
  },
  {
   "cell_type": "markdown",
   "id": "e0477cbe",
   "metadata": {},
   "source": [
    "# AQUI ESTA TODO YA, FALTARIA RETOCAR FILLNA y METER ARBOLES"
   ]
  },
  {
   "cell_type": "markdown",
   "id": "3b0f1118",
   "metadata": {},
   "source": [
    "# REVISAR MÁS ADELANTE"
   ]
  },
  {
   "cell_type": "code",
   "execution_count": null,
   "id": "5e53ce89",
   "metadata": {},
   "outputs": [],
   "source": [
    "dir_nans = fc.get_nans(DA_col,\"dir\")\n",
    "dir_nans"
   ]
  },
  {
   "cell_type": "code",
   "execution_count": null,
   "id": "53d01368",
   "metadata": {},
   "outputs": [],
   "source": [
    "DA_snan = DA_col.dir.interpolate(method='linear')"
   ]
  },
  {
   "cell_type": "code",
   "execution_count": null,
   "id": "919d4e7e",
   "metadata": {},
   "outputs": [],
   "source": [
    "DA_snan.isna().sum()"
   ]
  },
  {
   "cell_type": "code",
   "execution_count": null,
   "id": "efe13f93",
   "metadata": {},
   "outputs": [],
   "source": [
    "DA_sinan = DA_col.velmedia.interpolate(method='linear')\n",
    "DA_sinan.isna().sum()"
   ]
  },
  {
   "cell_type": "code",
   "execution_count": null,
   "id": "1f2df43d",
   "metadata": {},
   "outputs": [],
   "source": [
    "DA_snan.loc['2017-11-09':'2017-12-16 ']"
   ]
  },
  {
   "cell_type": "code",
   "execution_count": null,
   "id": "ab7971ac",
   "metadata": {},
   "outputs": [],
   "source": [
    "DataCl = DataApi.dropna(axis=0, how='any', thresh=None, subset=None, inplace=False)"
   ]
  },
  {
   "cell_type": "code",
   "execution_count": null,
   "id": "673617dd",
   "metadata": {},
   "outputs": [],
   "source": [
    "prueba.isna().sum()"
   ]
  },
  {
   "cell_type": "code",
   "execution_count": null,
   "id": "1686222f",
   "metadata": {},
   "outputs": [],
   "source": [
    "DataCl.shape"
   ]
  },
  {
   "cell_type": "code",
   "execution_count": null,
   "id": "3acb9f85",
   "metadata": {},
   "outputs": [],
   "source": [
    "DataCl.head()"
   ]
  },
  {
   "cell_type": "code",
   "execution_count": null,
   "id": "3aa59820",
   "metadata": {},
   "outputs": [],
   "source": [
    "DataCl.to_csv('data/DataCl.csv')"
   ]
  },
  {
   "cell_type": "code",
   "execution_count": null,
   "id": "5888ab82",
   "metadata": {},
   "outputs": [],
   "source": [
    "dfilt_1 = '2019-09-16'\n",
    "dfilt_2 = '2019-09-26'"
   ]
  },
  {
   "cell_type": "code",
   "execution_count": null,
   "id": "9ad6720e",
   "metadata": {},
   "outputs": [],
   "source": [
    "dfilt_3 = '2019-09-17'\n",
    "dfilt_4 = '2019-09-27'"
   ]
  },
  {
   "cell_type": "code",
   "execution_count": null,
   "id": "612d0b03",
   "metadata": {},
   "outputs": [],
   "source": [
    "dfilt_5 = '2019-09-26'\n",
    "dfilt_6 = '2019-10-06'"
   ]
  },
  {
   "cell_type": "markdown",
   "id": "8d653e8a",
   "metadata": {},
   "source": [
    "For the 3 NaNs in 'tmed':"
   ]
  },
  {
   "cell_type": "code",
   "execution_count": null,
   "id": "ba50caf3",
   "metadata": {},
   "outputs": [],
   "source": [
    "med1 = DA_col['tmed']"
   ]
  },
  {
   "cell_type": "code",
   "execution_count": null,
   "id": "df2ccce6",
   "metadata": {},
   "outputs": [],
   "source": [
    "Nan_tmed_1 = fc.saca_medias(med1,dfilt_1,dfilt_2)\n",
    "Nan_tmed_1"
   ]
  },
  {
   "cell_type": "code",
   "execution_count": null,
   "id": "9dbef53a",
   "metadata": {},
   "outputs": [],
   "source": [
    "Nan_tmed_2 = fc.saca_medias(med1,dfilt_3,dfilt_4)\n",
    "Nan_tmed_2"
   ]
  },
  {
   "cell_type": "code",
   "execution_count": null,
   "id": "38ff9316",
   "metadata": {},
   "outputs": [],
   "source": [
    "Nan_tmed_3 = fc.saca_medias(med1,dfilt_5,dfilt_6)\n",
    "Nan_tmed_3"
   ]
  },
  {
   "cell_type": "markdown",
   "id": "9520e4a7",
   "metadata": {},
   "source": [
    "For the 3 NaNs in 'tmin':"
   ]
  },
  {
   "cell_type": "code",
   "execution_count": null,
   "id": "8f433175",
   "metadata": {},
   "outputs": [],
   "source": [
    "min1 = DA_col['tmin']"
   ]
  },
  {
   "cell_type": "code",
   "execution_count": null,
   "id": "0b6710f5",
   "metadata": {},
   "outputs": [],
   "source": [
    "Nan_tmin_1 = fc.saca_medias(min1,dfilt_1,dfilt_2)\n",
    "Nan_tmin_1"
   ]
  },
  {
   "cell_type": "code",
   "execution_count": null,
   "id": "dde18872",
   "metadata": {},
   "outputs": [],
   "source": [
    "Nan_tmin_2 = fc.saca_medias(min1,dfilt_3,dfilt_4)\n",
    "Nan_tmin_2"
   ]
  },
  {
   "cell_type": "code",
   "execution_count": null,
   "id": "78a396da",
   "metadata": {},
   "outputs": [],
   "source": [
    "Nan_tmin_3 = fc.saca_medias(min1,dfilt_5,dfilt_6)\n",
    "Nan_tmin_3"
   ]
  },
  {
   "cell_type": "markdown",
   "id": "69fc7c99",
   "metadata": {},
   "source": [
    "For the 3 NaNs in 'tmax':"
   ]
  },
  {
   "cell_type": "code",
   "execution_count": null,
   "id": "1db05345",
   "metadata": {},
   "outputs": [],
   "source": [
    "max1 = DA_col['tmax']"
   ]
  },
  {
   "cell_type": "code",
   "execution_count": null,
   "id": "fb0199b3",
   "metadata": {},
   "outputs": [],
   "source": [
    "Nan_tmax_1 = fc.saca_medias(max1,dfilt_1,dfilt_2)\n",
    "Nan_tmax_1"
   ]
  },
  {
   "cell_type": "code",
   "execution_count": null,
   "id": "3c6e5a5b",
   "metadata": {},
   "outputs": [],
   "source": [
    "Nan_tmax_2 = fc.saca_medias(max1,dfilt_3,dfilt_4)\n",
    "Nan_tmax_2"
   ]
  },
  {
   "cell_type": "code",
   "execution_count": null,
   "id": "f515317d",
   "metadata": {},
   "outputs": [],
   "source": [
    "Nan_tmax_3 = fc.saca_medias(max1,dfilt_5,dfilt_6)\n",
    "Nan_tmax_3"
   ]
  },
  {
   "cell_type": "code",
   "execution_count": null,
   "id": "55139aa4",
   "metadata": {},
   "outputs": [],
   "source": []
  },
  {
   "cell_type": "code",
   "execution_count": null,
   "id": "78917890",
   "metadata": {},
   "outputs": [],
   "source": [
    "DA_col"
   ]
  },
  {
   "cell_type": "code",
   "execution_count": null,
   "id": "5a692151",
   "metadata": {},
   "outputs": [],
   "source": [
    "DA_col.tmed.loc[\"2019-09-21\"].fillna(value=Nan_tmed_1, inplace=True)"
   ]
  },
  {
   "cell_type": "code",
   "execution_count": null,
   "id": "3ce40d3c",
   "metadata": {},
   "outputs": [],
   "source": [
    "DA_col[\"tmed\"].loc[\"2019-09-21\"].fillna(value=Nan_tmed_1, inplace=True)"
   ]
  },
  {
   "cell_type": "code",
   "execution_count": null,
   "id": "55cbfa63",
   "metadata": {},
   "outputs": [],
   "source": [
    "def saca_medias(column,dia1,dia2):\n",
    "    col = column.loc[dia1 : dia2]\n",
    "    sin_nan = col.dropna(axis=0, how='any', inplace=False)\n",
    "    puntos = pd.to_numeric([x.replace(',','.') for x in sin_nan])\n",
    "    return (puntos.mean())\n",
    "\n",
    "def replace_nan0(columna,dia,valor):\n",
    "    a = columna.get_loc(dia)\n",
    "    columna.iloc[a].fillna(value=valor, inplace=True)"
   ]
  },
  {
   "cell_type": "code",
   "execution_count": null,
   "id": "d8fc3dd4",
   "metadata": {},
   "outputs": [],
   "source": [
    "dayy = '2019-09-21'\n",
    "x = saca_medias(DA_col.tmed,dayy-5,dayy+5)"
   ]
  },
  {
   "cell_type": "code",
   "execution_count": null,
   "id": "a7b372fd",
   "metadata": {},
   "outputs": [],
   "source": [
    "def replace_nan(column):\n",
    "        for x in column:\n",
    "            if x is None:\n",
    "                x = saca_medias(column,x-5,x+5)\n",
    "            else:\n",
    "                x = x\n",
    "        return(column.fillna(x))"
   ]
  },
  {
   "cell_type": "code",
   "execution_count": null,
   "id": "eadaec68",
   "metadata": {},
   "outputs": [],
   "source": [
    "colll = DA_col[\"tmed\"]\n",
    "dayy = \"2019-09-21\"\n",
    "vaal = Nan_tmed_1\n",
    "abb = replace_nan(colll)"
   ]
  },
  {
   "cell_type": "code",
   "execution_count": null,
   "id": "00868a94",
   "metadata": {},
   "outputs": [],
   "source": [
    "abb.loc['2019-09-01':'2019-10-16']"
   ]
  },
  {
   "cell_type": "code",
   "execution_count": null,
   "id": "1468064b",
   "metadata": {},
   "outputs": [],
   "source": [
    "def replace_nanoo(column):\n",
    "        for a in column:\n",
    "            if a is None:\n",
    "                a = saca_medias(column,a,a)\n",
    "        return(a)"
   ]
  },
  {
   "cell_type": "code",
   "execution_count": null,
   "id": "d23b7fba",
   "metadata": {},
   "outputs": [],
   "source": [
    "bb = replace_nanoo(colll)\n",
    "bb"
   ]
  },
  {
   "cell_type": "code",
   "execution_count": null,
   "id": "e7a8c57d",
   "metadata": {},
   "outputs": [],
   "source": [
    "column = DA_col['tmed']\n",
    "dia1 = '2019-09-01'\n",
    "dia2 = '2019-09-30'"
   ]
  },
  {
   "cell_type": "markdown",
   "id": "a7ededa6",
   "metadata": {},
   "source": [
    "# ACTUALMENTE"
   ]
  },
  {
   "cell_type": "code",
   "execution_count": null,
   "id": "3c7df51c",
   "metadata": {},
   "outputs": [],
   "source": [
    "col = column.loc[dia1 : dia2]\n",
    "col"
   ]
  },
  {
   "cell_type": "code",
   "execution_count": null,
   "id": "5680f5b7",
   "metadata": {},
   "outputs": [],
   "source": [
    "sin_nan = col.dropna(axis=0, how='any', inplace=False)\n",
    "sin_nan"
   ]
  },
  {
   "cell_type": "code",
   "execution_count": null,
   "id": "542c7a67",
   "metadata": {},
   "outputs": [],
   "source": [
    "puntos = pd.to_numeric([x.replace(',','.') for x in sin_nan])"
   ]
  },
  {
   "cell_type": "code",
   "execution_count": null,
   "id": "111c7105",
   "metadata": {},
   "outputs": [],
   "source": [
    "puntos.mean()"
   ]
  },
  {
   "cell_type": "code",
   "execution_count": null,
   "id": "a481a25f",
   "metadata": {},
   "outputs": [],
   "source": [
    "DA_col.apply(pd.to_numeric)"
   ]
  },
  {
   "cell_type": "code",
   "execution_count": null,
   "id": "c5dd7c22",
   "metadata": {},
   "outputs": [],
   "source": []
  },
  {
   "cell_type": "code",
   "execution_count": null,
   "id": "2e6f95a3",
   "metadata": {},
   "outputs": [],
   "source": []
  },
  {
   "cell_type": "code",
   "execution_count": null,
   "id": "ae59a418",
   "metadata": {},
   "outputs": [],
   "source": []
  },
  {
   "cell_type": "code",
   "execution_count": null,
   "id": "3ccaa144",
   "metadata": {},
   "outputs": [],
   "source": []
  },
  {
   "cell_type": "code",
   "execution_count": null,
   "id": "a6a2988a",
   "metadata": {},
   "outputs": [],
   "source": []
  },
  {
   "cell_type": "code",
   "execution_count": null,
   "id": "68c38d19",
   "metadata": {},
   "outputs": [],
   "source": [
    "arr = DA_col.loc[\"2019-09-01\":\"2019-09-30\", ['tmed', 'tmax', 'tmin']]\n",
    "arr.shape"
   ]
  },
  {
   "cell_type": "code",
   "execution_count": null,
   "id": "854e556f",
   "metadata": {},
   "outputs": [],
   "source": [
    "arr_1 = arr.dropna(axis=0, how='any', thresh=None, subset=None, inplace=False)\n",
    "arr_1.shape"
   ]
  },
  {
   "cell_type": "code",
   "execution_count": null,
   "id": "8b09c7e1",
   "metadata": {},
   "outputs": [],
   "source": [
    "puntos = pd.to_numeric([x.replace(',','.') for x in arr_1['tmed']])\n",
    "puntos"
   ]
  },
  {
   "cell_type": "code",
   "execution_count": null,
   "id": "28fe9d9d",
   "metadata": {},
   "outputs": [],
   "source": [
    "puntos.mean()"
   ]
  },
  {
   "cell_type": "code",
   "execution_count": null,
   "id": "d5e9b2f4",
   "metadata": {},
   "outputs": [],
   "source": []
  },
  {
   "cell_type": "code",
   "execution_count": null,
   "id": "42d2605f",
   "metadata": {},
   "outputs": [],
   "source": []
  },
  {
   "cell_type": "code",
   "execution_count": null,
   "id": "3e766f71",
   "metadata": {},
   "outputs": [],
   "source": []
  },
  {
   "cell_type": "code",
   "execution_count": null,
   "id": "e51a70c3",
   "metadata": {},
   "outputs": [],
   "source": []
  },
  {
   "cell_type": "code",
   "execution_count": null,
   "id": "98657e91",
   "metadata": {},
   "outputs": [],
   "source": []
  },
  {
   "cell_type": "code",
   "execution_count": null,
   "id": "ab99fa4d",
   "metadata": {},
   "outputs": [],
   "source": [
    "nan_rows"
   ]
  },
  {
   "cell_type": "code",
   "execution_count": null,
   "id": "274aacbb",
   "metadata": {},
   "outputs": [],
   "source": [
    "def replace_nans(df,key):\n",
    "    df_use = df[key]\n",
    "    for i in df_use:\n",
    "        df_use.fillna()"
   ]
  }
 ],
 "metadata": {
  "kernelspec": {
   "display_name": "ironhack",
   "language": "python",
   "name": "ironhack"
  },
  "language_info": {
   "codemirror_mode": {
    "name": "ipython",
    "version": 3
   },
   "file_extension": ".py",
   "mimetype": "text/x-python",
   "name": "python",
   "nbconvert_exporter": "python",
   "pygments_lexer": "ipython3",
   "version": "3.9.7"
  }
 },
 "nbformat": 4,
 "nbformat_minor": 5
}
